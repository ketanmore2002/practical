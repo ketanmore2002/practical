{
 "cells": [
  {
   "cell_type": "code",
   "execution_count": 35,
   "metadata": {},
   "outputs": [
    {
     "name": "stdout",
     "output_type": "stream",
     "text": [
      "zeros:  [0, 0, 0, 0, 0, 0, 0, 0, 0, 0]\n",
      "None:  [None, None, None, None, None, None, None, None]\n",
      "2D empty list of zeros:  [[0, 0, 0, 0], [0, 0, 0, 0], [0, 0, 0, 0]]\n",
      "zeros:  []\n"
     ]
    }
   ],
   "source": [
    "# Practical 1\n",
    "\n",
    "a = [0] * 10\n",
    "print(\"zeros: \", a)\n",
    "\n",
    "b = [None] * 8\n",
    "print(\"None: \", b)\n",
    "\n",
    "c = [[0] * 4] * 3\n",
    "print(\"2D empty list of zeros: \", c)\n",
    "\n",
    "d = []\n",
    "print(\"zeros: \", d)\n"
   ]
  },
  {
   "cell_type": "code",
   "execution_count": 39,
   "metadata": {},
   "outputs": [
    {
     "name": "stdout",
     "output_type": "stream",
     "text": [
      "Enter 9 Elements for First Matrix: \n"
     ]
    },
    {
     "ename": "ValueError",
     "evalue": "invalid literal for int() with base 10: ''",
     "output_type": "error",
     "traceback": [
      "\u001b[1;31m---------------------------------------------------------------------------\u001b[0m",
      "\u001b[1;31mValueError\u001b[0m                                Traceback (most recent call last)",
      "Cell \u001b[1;32mIn [39], line 9\u001b[0m\n\u001b[0;32m      7\u001b[0m     matOne\u001b[38;5;241m.\u001b[39mappend([])\n\u001b[0;32m      8\u001b[0m     \u001b[38;5;28;01mfor\u001b[39;00m j \u001b[38;5;129;01min\u001b[39;00m \u001b[38;5;28mrange\u001b[39m(\u001b[38;5;241m3\u001b[39m):\n\u001b[1;32m----> 9\u001b[0m         num \u001b[38;5;241m=\u001b[39m \u001b[38;5;28;43mint\u001b[39;49m\u001b[43m(\u001b[49m\u001b[38;5;28;43minput\u001b[39;49m\u001b[43m(\u001b[49m\u001b[43m)\u001b[49m\u001b[43m)\u001b[49m\n\u001b[0;32m     10\u001b[0m         matOne[i]\u001b[38;5;241m.\u001b[39mappend(num)\n\u001b[0;32m     12\u001b[0m matTwo \u001b[38;5;241m=\u001b[39m []\n",
      "\u001b[1;31mValueError\u001b[0m: invalid literal for int() with base 10: ''"
     ]
    }
   ],
   "source": [
    "# Practical 2\n",
    "\n",
    "\n",
    "matOne = []\n",
    "print(\"Enter 9 Elements for First Matrix: \")\n",
    "for i in range(3):\n",
    "    matOne.append([])\n",
    "    for j in range(3):\n",
    "        num = int(input())\n",
    "        matOne[i].append(num)\n",
    "\n",
    "matTwo = []\n",
    "print(\"Enter 9 Elements for Second Matrix: \")\n",
    "for i in range(3):\n",
    "    matTwo.append([])\n",
    "    for j in range(3):\n",
    "        num = int(input())\n",
    "        matTwo[i].append(num)\n",
    "\n",
    "matThree = []\n",
    "for i in range(3):\n",
    "    matThree.append([])\n",
    "    for j in range(3):\n",
    "        sum = 0\n",
    "        for k in range(3):\n",
    "            sum = sum + (matOne[i][k] * matTwo[k][j])\n",
    "        matThree[i].append(sum)\n",
    "\n",
    "print(\"\\nMultiplication Result of Two Given Matrix is:\")\n",
    "for i in range(3):\n",
    "    for j in range(3):\n",
    "        print(matThree[i][j], end=\" \")\n",
    "    print()"
   ]
  },
  {
   "cell_type": "code",
   "execution_count": 38,
   "metadata": {},
   "outputs": [
    {
     "name": "stdout",
     "output_type": "stream",
     "text": [
      "Ram is a student\n",
      "he studies at NCER\n",
      "---------------------------------------------------\n",
      "Strings are not same\n",
      "---------------------------------------------------\n",
      "concatenation of both strings : Ram is a student he studies at NCER\n",
      "---------------------------------------------------\n",
      "Spliting String 1 and String 2 : ['Ram', 'is', 'a', 'student'] ['he', 'studies', 'at', 'NCER']\n",
      "---------------------------------------------------\n",
      "lenght of String 1 and String 2 : 16 18\n",
      "---------------------------------------------------\n",
      "Replacing Spaces of String 1 and string 2 with _ : Ram_is_a_student he_studies_at_NCER\n",
      "---------------------------------------------------\n",
      "Last to words of String 1 and string 2 are (Substring) : a student , at NCER\n",
      "---------------------------------------------------\n"
     ]
    }
   ],
   "source": [
    "# practical 3\n",
    "\n",
    "# equal,concarte,split,length,replace,compareto,intern,substring\n",
    "\n",
    "str1 = input(\"Enter a string :\")\n",
    "str2 = input(\"Enter a string :\")\n",
    "print(str1)\n",
    "print(str2)\n",
    "\n",
    "print(\"---------------------------------------------------\")\n",
    "\n",
    "if str1 == str2 :\n",
    "    print(\"Both Strings are same\")\n",
    "else:\n",
    "    print(\"Strings are not same\")\n",
    "\n",
    "print(\"---------------------------------------------------\")\n",
    "\n",
    "print(\"concatenation of both strings :\",str1+\" \"+str2)\n",
    "\n",
    "print(\"---------------------------------------------------\")\n",
    "\n",
    "print(\"Spliting String 1 and String 2 :\",str1.split(),str2.split())\n",
    "\n",
    "print(\"---------------------------------------------------\")\n",
    "\n",
    "print(\"lenght of String 1 and String 2 :\",len(str1),len(str2))\n",
    "\n",
    "print(\"---------------------------------------------------\")\n",
    "\n",
    "print(\"Replacing Spaces of String 1 and string 2 with _ :\",str1.replace(\" \",\"_\"),str2.replace(\" \",\"_\"))\n",
    "\n",
    "print(\"---------------------------------------------------\")\n",
    "\n",
    "new_var1 = str1.split()[-2:]\n",
    "new_var1 = ' '.join(map(str, new_var1))\n",
    "\n",
    "new_var2 = str2.split()[-2:]\n",
    "new_var2 = ' '.join(map(str, new_var2))\n",
    "\n",
    "\n",
    "print(\"Last to words of String 1 and string 2 are (Substring) :\",new_var1,\",\",new_var2)\n",
    "\n",
    "print(\"---------------------------------------------------\")"
   ]
  },
  {
   "cell_type": "markdown",
   "metadata": {},
   "source": []
  },
  {
   "cell_type": "code",
   "execution_count": 4,
   "metadata": {},
   "outputs": [
    {
     "name": "stdout",
     "output_type": "stream",
     "text": [
      "[3, 7, 8, 10, 11, 22, 33, 54, 100]\n",
      "Element is present at index 6\n",
      "Element is present at index 6\n"
     ]
    }
   ],
   "source": [
    "# practical 4\n",
    "\n",
    "my_numbers = [10, 8, 3, 22, 33, 7, 11, 100, 54]\n",
    "my_numbers.sort()\n",
    "print(my_numbers)\n",
    "\n",
    "x = int(input())\n",
    "\n",
    "if x in my_numbers:\n",
    "    for i in my_numbers :\n",
    "        if i == x:\n",
    "            print(\"Element is present at index\", str(my_numbers.index(i)))\n",
    "            break\n",
    "        else:\n",
    "            pass\n",
    "else :\n",
    "    print(\"Element is not present in array\")\n",
    "    \n",
    "\n",
    "def binary_search(arr, x):\n",
    "    low = 0\n",
    "    high = len(arr) - 1\n",
    "    mid = 0\n",
    " \n",
    "    while low <= high:\n",
    " \n",
    "        mid = (high + low) // 2\n",
    "        if arr[mid] < x:\n",
    "            low = mid + 1\n",
    "        elif arr[mid] > x:\n",
    "            high = mid - 1\n",
    "        else:\n",
    "            return mid\n",
    "    return -1\n",
    " \n",
    " \n",
    "\n",
    "result = binary_search(my_numbers, x)\n",
    " \n",
    "if result != -1:\n",
    "    print(\"Element is present at index\", str(result))\n",
    "else:\n",
    "    print(\"Element is not present in array\")"
   ]
  },
  {
   "cell_type": "code",
   "execution_count": 8,
   "metadata": {},
   "outputs": [
    {
     "name": "stdout",
     "output_type": "stream",
     "text": [
      "[3, 7, 8, 10, 11, 22, 33, 54, 100]\n"
     ]
    },
    {
     "ename": "UnboundLocalError",
     "evalue": "local variable 'high' referenced before assignment",
     "output_type": "error",
     "traceback": [
      "\u001b[1;31m---------------------------------------------------------------------------\u001b[0m",
      "\u001b[1;31mUnboundLocalError\u001b[0m                         Traceback (most recent call last)",
      "Cell \u001b[1;32mIn [8], line 24\u001b[0m\n\u001b[0;32m     19\u001b[0m             \u001b[38;5;28;01mreturn\u001b[39;00m mid\n\u001b[0;32m     20\u001b[0m     \u001b[38;5;28;01mreturn\u001b[39;00m \u001b[38;5;241m-\u001b[39m\u001b[38;5;241m1\u001b[39m\n\u001b[1;32m---> 24\u001b[0m result \u001b[38;5;241m=\u001b[39m \u001b[43mbinary_search\u001b[49m\u001b[43m(\u001b[49m\u001b[43mmy_numbers\u001b[49m\u001b[43m,\u001b[49m\u001b[43m \u001b[49m\u001b[43mx\u001b[49m\u001b[43m)\u001b[49m\n\u001b[0;32m     25\u001b[0m \u001b[38;5;28mprint\u001b[39m(result)\n",
      "Cell \u001b[1;32mIn [8], line 12\u001b[0m, in \u001b[0;36mbinary_search\u001b[1;34m(arr, x)\u001b[0m\n\u001b[0;32m     11\u001b[0m \u001b[38;5;28;01mdef\u001b[39;00m \u001b[38;5;21mbinary_search\u001b[39m(arr,x):\n\u001b[1;32m---> 12\u001b[0m     mid \u001b[38;5;241m=\u001b[39m (\u001b[43mhigh\u001b[49m \u001b[38;5;241m+\u001b[39m low) \n\u001b[0;32m     13\u001b[0m     \u001b[38;5;28;01mwhile\u001b[39;00m low \u001b[38;5;241m<\u001b[39m\u001b[38;5;241m=\u001b[39m high :\n\u001b[0;32m     14\u001b[0m         \u001b[38;5;28;01mif\u001b[39;00m arr[mid] \u001b[38;5;241m<\u001b[39m x :\n",
      "\u001b[1;31mUnboundLocalError\u001b[0m: local variable 'high' referenced before assignment"
     ]
    }
   ],
   "source": [
    "my_numbers = [10, 8, 3, 22, 33, 7, 11, 100, 54]\n",
    "my_numbers.sort()\n",
    "print(my_numbers)\n",
    "\n",
    "x = int(input())\n",
    "\n",
    "low = 0\n",
    "high = len(my_numbers) - 1\n",
    "mid = 0\n",
    "\n",
    "def binary_search(arr,x):\n",
    "    mid = (high + low) \n",
    "    while low <= high :\n",
    "        if arr[mid] < x :\n",
    "            low = mid + 1\n",
    "        elif arr[mid] > x :\n",
    "            high = mid - 1\n",
    "        else :\n",
    "            return mid\n",
    "    return -1\n",
    "\n",
    "\n",
    "\n",
    "result = binary_search(my_numbers, x)\n",
    "print(result)"
   ]
  },
  {
   "cell_type": "code",
   "execution_count": null,
   "metadata": {},
   "outputs": [],
   "source": []
  }
 ],
 "metadata": {
  "kernelspec": {
   "display_name": "Python 3.9.6 ('open')",
   "language": "python",
   "name": "python3"
  },
  "language_info": {
   "codemirror_mode": {
    "name": "ipython",
    "version": 3
   },
   "file_extension": ".py",
   "mimetype": "text/x-python",
   "name": "python",
   "nbconvert_exporter": "python",
   "pygments_lexer": "ipython3",
   "version": "3.9.6"
  },
  "orig_nbformat": 4,
  "vscode": {
   "interpreter": {
    "hash": "a01d61e748d789b5bc70462741619183ba0e04efc5a3b60bac4220b6eb27d74c"
   }
  }
 },
 "nbformat": 4,
 "nbformat_minor": 2
}
